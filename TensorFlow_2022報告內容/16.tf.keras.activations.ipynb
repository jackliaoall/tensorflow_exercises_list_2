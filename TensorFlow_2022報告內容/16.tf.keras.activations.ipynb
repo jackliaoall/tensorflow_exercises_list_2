{
  "nbformat": 4,
  "nbformat_minor": 0,
  "metadata": {
    "colab": {
      "provenance": [],
      "collapsed_sections": []
    },
    "kernelspec": {
      "name": "python3",
      "display_name": "Python 3"
    },
    "language_info": {
      "name": "python"
    }
  },
  "cells": [
    {
      "cell_type": "markdown",
      "source": [
        "Ref: https://ml-cheatsheet.readthedocs.io/en/latest/activation_functions.html\n",
        "\n",
        "https://ithelp.ithome.com.tw/articles/10237036\n",
        "\n",
        "https://ithelp.ithome.com.tw/articles/10237661\n",
        "\n",
        "https://en.wikipedia.org/wiki/Activation_function\n",
        "\n",
        "https://www.tensorflow.org/api_docs/python/tf/keras/activations\n",
        "\n",
        "https://keras.io/zh/activations/"
      ],
      "metadata": {
        "id": "GvRe5R_s5ihq"
      }
    }
  ]
}